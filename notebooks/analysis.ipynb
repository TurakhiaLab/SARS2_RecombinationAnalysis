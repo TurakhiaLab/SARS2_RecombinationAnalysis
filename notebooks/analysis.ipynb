{
 "cells": [
  {
   "cell_type": "code",
   "execution_count": 8,
   "id": "present-needle",
   "metadata": {},
   "outputs": [],
   "source": [
    "#from util import *\n",
    "import polars as pl\n",
    "from methods import Config, RecombAnalysis"
   ]
  },
  {
   "cell_type": "markdown",
   "id": "negative-trustee",
   "metadata": {},
   "source": [
    "# Data required for analysis\n",
    "\n",
    "Fill out the `config.yaml` file fields with the names of each of these files\n",
    "\n",
    "- RIVET results file (.txt)\n",
    "- RIVET vcf file (.vcf)\n",
    "- Chronumental results file (.tsv)\n",
    "- PyR0 mutations file (.tsv)\n",
    "- Case counts file (.csv)\n",
    "- Standing genetic diversity results file (.csv)\n",
    "\n"
   ]
  },
  {
   "cell_type": "code",
   "execution_count": 2,
   "id": "528af81b-f588-4f9e-9108-9f5b1bde918a",
   "metadata": {},
   "outputs": [],
   "source": [
    "# Get all the data files from the config file\n",
    "config = Config(\"config.yaml\")"
   ]
  },
  {
   "cell_type": "code",
   "execution_count": 3,
   "id": "dad2c504-17f4-4bc9-a558-a33d19d84f95",
   "metadata": {},
   "outputs": [
    {
     "name": "stdout",
     "output_type": "stream",
     "text": [
      "Loading all datasets for analysis\n",
      "Loading standing genetic diversity scores from file:  ../test_data/genetic-diversity-gisaidAndPublic.2023-12-25.csv\n",
      "Loading PyR0 amino acid mutation ranking scores from file:  ../test_data/mutations.tsv\n",
      "Loading case count data from file:  ../test_data/time_series_covid19_confirmed_global.csv\n",
      "Loading chronumental object from disk cache:  ../test_data/chronumental_dates_gisaidAndPublic.2023-12-25-STEPS2000-SERIAL3.metadata.tsv.tsv.pkl\n",
      "Chronumental dates loaded.\n",
      "Data loaded, analysis ready. Elapsed time: 8.9587 seconds\n"
     ]
    }
   ],
   "source": [
    "analysis = RecombAnalysis(config)"
   ]
  },
  {
   "cell_type": "code",
   "execution_count": 4,
   "id": "cd6dc22e-38f1-4c05-961d-4067b5e7bf1f",
   "metadata": {},
   "outputs": [
    {
     "data": {
      "text/html": [
       "<div><style>\n",
       ".dataframe > thead > tr,\n",
       ".dataframe > tbody > tr {\n",
       "  text-align: right;\n",
       "  white-space: pre-wrap;\n",
       "}\n",
       "</style>\n",
       "<small>shape: (37, 4)</small><table border=\"1\" class=\"dataframe\"><thead><tr><th>Month</th><th>Count</th><th>Infections</th><th>NumRecombsDetectedByMonth</th></tr><tr><td>str</td><td>f64</td><td>i64</td><td>i64</td></tr></thead><tbody><tr><td>&quot;2023-02&quot;</td><td>112.148</td><td>4587649</td><td>28</td></tr><tr><td>&quot;2022-04&quot;</td><td>87.4823</td><td>25217142</td><td>61</td></tr><tr><td>&quot;2021-08&quot;</td><td>124.956</td><td>19894993</td><td>118</td></tr><tr><td>&quot;2021-02&quot;</td><td>142.19</td><td>11253786</td><td>96</td></tr><tr><td>&quot;2022-06&quot;</td><td>100.291</td><td>17732748</td><td>81</td></tr><tr><td>&hellip;</td><td>&hellip;</td><td>&hellip;</td><td>&hellip;</td></tr><tr><td>&quot;2020-06&quot;</td><td>70.4285</td><td>4292072</td><td>11</td></tr><tr><td>&quot;2020-04&quot;</td><td>59.1907</td><td>2412716</td><td>4</td></tr><tr><td>&quot;2020-05&quot;</td><td>63.8522</td><td>2901229</td><td>11</td></tr><tr><td>&quot;2020-03&quot;</td><td>54.0662</td><td>783348</td><td>4</td></tr><tr><td>&quot;2020-02&quot;</td><td>34.103</td><td>76096</td><td>1</td></tr></tbody></table></div>"
      ],
      "text/plain": [
       "shape: (37, 4)\n",
       "┌─────────┬─────────┬────────────┬───────────────────────────┐\n",
       "│ Month   ┆ Count   ┆ Infections ┆ NumRecombsDetectedByMonth │\n",
       "│ ---     ┆ ---     ┆ ---        ┆ ---                       │\n",
       "│ str     ┆ f64     ┆ i64        ┆ i64                       │\n",
       "╞═════════╪═════════╪════════════╪═══════════════════════════╡\n",
       "│ 2023-02 ┆ 112.148 ┆ 4587649    ┆ 28                        │\n",
       "│ 2022-04 ┆ 87.4823 ┆ 25217142   ┆ 61                        │\n",
       "│ 2021-08 ┆ 124.956 ┆ 19894993   ┆ 118                       │\n",
       "│ 2021-02 ┆ 142.19  ┆ 11253786   ┆ 96                        │\n",
       "│ 2022-06 ┆ 100.291 ┆ 17732748   ┆ 81                        │\n",
       "│ …       ┆ …       ┆ …          ┆ …                         │\n",
       "│ 2020-06 ┆ 70.4285 ┆ 4292072    ┆ 11                        │\n",
       "│ 2020-04 ┆ 59.1907 ┆ 2412716    ┆ 4                         │\n",
       "│ 2020-05 ┆ 63.8522 ┆ 2901229    ┆ 11                        │\n",
       "│ 2020-03 ┆ 54.0662 ┆ 783348     ┆ 4                         │\n",
       "│ 2020-02 ┆ 34.103  ┆ 76096      ┆ 1                         │\n",
       "└─────────┴─────────┴────────────┴───────────────────────────┘"
      ]
     },
     "execution_count": 4,
     "metadata": {},
     "output_type": "execute_result"
    }
   ],
   "source": [
    "df = analysis.toDataframe()\n",
    "df"
   ]
  },
  {
   "cell_type": "markdown",
   "id": "0316f17b-69af-4c22-810a-198204401af7",
   "metadata": {},
   "source": [
    "# Figure 1c: Correlation Matrix"
   ]
  },
  {
   "cell_type": "code",
   "execution_count": 5,
   "id": "15de2fa2-1a44-4979-ab0d-aaeec1dd4f63",
   "metadata": {},
   "outputs": [
    {
     "data": {
      "text/html": [
       "<div>\n",
       "<style scoped>\n",
       "    .dataframe tbody tr th:only-of-type {\n",
       "        vertical-align: middle;\n",
       "    }\n",
       "\n",
       "    .dataframe tbody tr th {\n",
       "        vertical-align: top;\n",
       "    }\n",
       "\n",
       "    .dataframe thead th {\n",
       "        text-align: right;\n",
       "    }\n",
       "</style>\n",
       "<table border=\"1\" class=\"dataframe\">\n",
       "  <thead>\n",
       "    <tr style=\"text-align: right;\">\n",
       "      <th></th>\n",
       "      <th>Count</th>\n",
       "      <th>Infections</th>\n",
       "      <th>NumRecombsDetectedByMonth</th>\n",
       "    </tr>\n",
       "  </thead>\n",
       "  <tbody>\n",
       "    <tr>\n",
       "      <th>Count</th>\n",
       "      <td>1.000000</td>\n",
       "      <td>0.124601</td>\n",
       "      <td>0.779849</td>\n",
       "    </tr>\n",
       "    <tr>\n",
       "      <th>Infections</th>\n",
       "      <td>0.124601</td>\n",
       "      <td>1.000000</td>\n",
       "      <td>0.306916</td>\n",
       "    </tr>\n",
       "    <tr>\n",
       "      <th>NumRecombsDetectedByMonth</th>\n",
       "      <td>0.779849</td>\n",
       "      <td>0.306916</td>\n",
       "      <td>1.000000</td>\n",
       "    </tr>\n",
       "  </tbody>\n",
       "</table>\n",
       "</div>"
      ],
      "text/plain": [
       "                              Count  Infections  NumRecombsDetectedByMonth\n",
       "Count                      1.000000    0.124601                   0.779849\n",
       "Infections                 0.124601    1.000000                   0.306916\n",
       "NumRecombsDetectedByMonth  0.779849    0.306916                   1.000000"
      ]
     },
     "execution_count": 5,
     "metadata": {},
     "output_type": "execute_result"
    }
   ],
   "source": [
    "selected_columns = ['Count', 'Infections', 'NumRecombsDetectedByMonth']\n",
    "df.to_pandas()[selected_columns].corr()"
   ]
  },
  {
   "cell_type": "code",
   "execution_count": 10,
   "id": "73389bd6-02d9-47f3-8c8d-a9a52d881039",
   "metadata": {},
   "outputs": [
    {
     "name": "stdout",
     "output_type": "stream",
     "text": [
      "0.7798487013090409\n",
      "0.30691635828778746\n",
      "0.12460145765167176\n"
     ]
    }
   ],
   "source": [
    "print(df.select(pl.corr(\"Count\", \"NumRecombsDetectedByMonth\")).item())\n",
    "print(df.select(pl.corr(\"Infections\", \"NumRecombsDetectedByMonth\")).item())\n",
    "print(df.select(pl.corr(\"Infections\", \"Count\")).item())"
   ]
  },
  {
   "cell_type": "code",
   "execution_count": null,
   "id": "892dd64f-7294-4ae2-9d5f-18afcd9e328a",
   "metadata": {},
   "outputs": [],
   "source": []
  }
 ],
 "metadata": {
  "kernelspec": {
   "display_name": "Python 3 (ipykernel)",
   "language": "python",
   "name": "python3"
  },
  "language_info": {
   "codemirror_mode": {
    "name": "ipython",
    "version": 3
   },
   "file_extension": ".py",
   "mimetype": "text/x-python",
   "name": "python",
   "nbconvert_exporter": "python",
   "pygments_lexer": "ipython3",
   "version": "3.12.11"
  }
 },
 "nbformat": 4,
 "nbformat_minor": 5
}
