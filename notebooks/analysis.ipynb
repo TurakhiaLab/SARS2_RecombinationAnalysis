{
 "cells": [
  {
   "cell_type": "code",
   "execution_count": 1,
   "id": "present-needle",
   "metadata": {},
   "outputs": [],
   "source": [
    "import polars as pl\n",
    "import numpy as np\n",
    "from methods import Config, RecombAnalysis"
   ]
  },
  {
   "cell_type": "markdown",
   "id": "negative-trustee",
   "metadata": {},
   "source": [
    "# Data required for analysis\n",
    "\n",
    "Fill out the `config.yaml` file fields with the names of each of these files\n",
    "\n",
    "- RIVET results file (.txt)\n",
    "- RIVET vcf file (.vcf)\n",
    "- Chronumental results file (.tsv)\n",
    "- PyR0 mutations file (.tsv)\n",
    "- Case counts file (.csv)\n",
    "- Standing genetic diversity results file (.csv)\n",
    "\n"
   ]
  },
  {
   "cell_type": "code",
   "execution_count": 2,
   "id": "528af81b-f588-4f9e-9108-9f5b1bde918a",
   "metadata": {},
   "outputs": [],
   "source": [
    "# Ensure correct path to config.yaml file in top level directory\n",
    "CONFIG_FILEPATH = \"../config.yaml\"\n",
    "# Get all the data files from the config file\n",
    "config = Config(CONFIG_FILEPATH)"
   ]
  },
  {
   "cell_type": "code",
   "execution_count": 3,
   "id": "dad2c504-17f4-4bc9-a558-a33d19d84f95",
   "metadata": {},
   "outputs": [
    {
     "name": "stdout",
     "output_type": "stream",
     "text": [
      "Loading all datasets for analysis\n",
      "Loading standing genetic diversity scores from file:  /Users/kyle/research/recomb-experiments/data/genetic-diversity-gisaidAndPublic.2023-12-25.csv\n",
      "Loading PyR0 amino acid mutation ranking scores from file:  /Users/kyle/research/recomb-experiments/data/mutations.tsv\n",
      "Loading case count data from file:  /Users/kyle/research/recomb-experiments/data/time_series_covid19_confirmed_global.csv\n",
      "Loading Chronumental object from disk cache:  /Users/kyle/research/recomb-experiments/data/chronumental_dates_gisaidAndPublic.2023-12-25-STEPS2000-SERIAL3.metadata.tsv.tsv.pkl\n",
      "Chronumental dates loaded.\n",
      "Data loaded, analysis ready. Elapsed time: 10.7987 seconds\n"
     ]
    }
   ],
   "source": [
    "analysis = RecombAnalysis(config)"
   ]
  },
  {
   "cell_type": "code",
   "execution_count": 4,
   "id": "cd6dc22e-38f1-4c05-961d-4067b5e7bf1f",
   "metadata": {},
   "outputs": [
    {
     "data": {
      "text/html": [
       "<div><style>\n",
       ".dataframe > thead > tr,\n",
       ".dataframe > tbody > tr {\n",
       "  text-align: right;\n",
       "  white-space: pre-wrap;\n",
       "}\n",
       "</style>\n",
       "<small>shape: (37, 4)</small><table border=\"1\" class=\"dataframe\"><thead><tr><th>Month</th><th>Count</th><th>Infections</th><th>NumRecombsDetectedByMonth</th></tr><tr><td>str</td><td>f64</td><td>i64</td><td>i64</td></tr></thead><tbody><tr><td>&quot;2021-09&quot;</td><td>128.393</td><td>16061455</td><td>117</td></tr><tr><td>&quot;2022-05&quot;</td><td>94.8531</td><td>16213566</td><td>63</td></tr><tr><td>&quot;2021-07&quot;</td><td>123.092</td><td>15676958</td><td>111</td></tr><tr><td>&quot;2022-06&quot;</td><td>100.291</td><td>17732748</td><td>81</td></tr><tr><td>&quot;2022-11&quot;</td><td>116.172</td><td>12388536</td><td>46</td></tr><tr><td>&hellip;</td><td>&hellip;</td><td>&hellip;</td><td>&hellip;</td></tr><tr><td>&quot;2023-01&quot;</td><td>119.41</td><td>10270797</td><td>28</td></tr><tr><td>&quot;2020-07&quot;</td><td>75.5938</td><td>7118656</td><td>11</td></tr><tr><td>&quot;2020-05&quot;</td><td>63.8522</td><td>2901229</td><td>11</td></tr><tr><td>&quot;2020-06&quot;</td><td>70.4285</td><td>4292072</td><td>11</td></tr><tr><td>&quot;2020-02&quot;</td><td>34.103</td><td>76096</td><td>1</td></tr></tbody></table></div>"
      ],
      "text/plain": [
       "shape: (37, 4)\n",
       "┌─────────┬─────────┬────────────┬───────────────────────────┐\n",
       "│ Month   ┆ Count   ┆ Infections ┆ NumRecombsDetectedByMonth │\n",
       "│ ---     ┆ ---     ┆ ---        ┆ ---                       │\n",
       "│ str     ┆ f64     ┆ i64        ┆ i64                       │\n",
       "╞═════════╪═════════╪════════════╪═══════════════════════════╡\n",
       "│ 2021-09 ┆ 128.393 ┆ 16061455   ┆ 117                       │\n",
       "│ 2022-05 ┆ 94.8531 ┆ 16213566   ┆ 63                        │\n",
       "│ 2021-07 ┆ 123.092 ┆ 15676958   ┆ 111                       │\n",
       "│ 2022-06 ┆ 100.291 ┆ 17732748   ┆ 81                        │\n",
       "│ 2022-11 ┆ 116.172 ┆ 12388536   ┆ 46                        │\n",
       "│ …       ┆ …       ┆ …          ┆ …                         │\n",
       "│ 2023-01 ┆ 119.41  ┆ 10270797   ┆ 28                        │\n",
       "│ 2020-07 ┆ 75.5938 ┆ 7118656    ┆ 11                        │\n",
       "│ 2020-05 ┆ 63.8522 ┆ 2901229    ┆ 11                        │\n",
       "│ 2020-06 ┆ 70.4285 ┆ 4292072    ┆ 11                        │\n",
       "│ 2020-02 ┆ 34.103  ┆ 76096      ┆ 1                         │\n",
       "└─────────┴─────────┴────────────┴───────────────────────────┘"
      ]
     },
     "execution_count": 4,
     "metadata": {},
     "output_type": "execute_result"
    }
   ],
   "source": [
    "df = analysis.toDataframe()\n",
    "df"
   ]
  },
  {
   "cell_type": "markdown",
   "id": "0316f17b-69af-4c22-810a-198204401af7",
   "metadata": {},
   "source": [
    "# Figure 1c: Correlation Matrix"
   ]
  },
  {
   "cell_type": "code",
   "execution_count": 5,
   "id": "15de2fa2-1a44-4979-ab0d-aaeec1dd4f63",
   "metadata": {},
   "outputs": [
    {
     "data": {
      "text/html": [
       "<div>\n",
       "<style scoped>\n",
       "    .dataframe tbody tr th:only-of-type {\n",
       "        vertical-align: middle;\n",
       "    }\n",
       "\n",
       "    .dataframe tbody tr th {\n",
       "        vertical-align: top;\n",
       "    }\n",
       "\n",
       "    .dataframe thead th {\n",
       "        text-align: right;\n",
       "    }\n",
       "</style>\n",
       "<table border=\"1\" class=\"dataframe\">\n",
       "  <thead>\n",
       "    <tr style=\"text-align: right;\">\n",
       "      <th></th>\n",
       "      <th>Count</th>\n",
       "      <th>Infections</th>\n",
       "      <th>NumRecombsDetectedByMonth</th>\n",
       "    </tr>\n",
       "  </thead>\n",
       "  <tbody>\n",
       "    <tr>\n",
       "      <th>Count</th>\n",
       "      <td>1.000000</td>\n",
       "      <td>0.124601</td>\n",
       "      <td>0.779849</td>\n",
       "    </tr>\n",
       "    <tr>\n",
       "      <th>Infections</th>\n",
       "      <td>0.124601</td>\n",
       "      <td>1.000000</td>\n",
       "      <td>0.306916</td>\n",
       "    </tr>\n",
       "    <tr>\n",
       "      <th>NumRecombsDetectedByMonth</th>\n",
       "      <td>0.779849</td>\n",
       "      <td>0.306916</td>\n",
       "      <td>1.000000</td>\n",
       "    </tr>\n",
       "  </tbody>\n",
       "</table>\n",
       "</div>"
      ],
      "text/plain": [
       "                              Count  Infections  NumRecombsDetectedByMonth\n",
       "Count                      1.000000    0.124601                   0.779849\n",
       "Infections                 0.124601    1.000000                   0.306916\n",
       "NumRecombsDetectedByMonth  0.779849    0.306916                   1.000000"
      ]
     },
     "execution_count": 5,
     "metadata": {},
     "output_type": "execute_result"
    }
   ],
   "source": [
    "selected_columns = ['Count', 'Infections', 'NumRecombsDetectedByMonth']\n",
    "df.to_pandas()[selected_columns].corr()"
   ]
  },
  {
   "cell_type": "code",
   "execution_count": 6,
   "id": "73389bd6-02d9-47f3-8c8d-a9a52d881039",
   "metadata": {},
   "outputs": [
    {
     "name": "stdout",
     "output_type": "stream",
     "text": [
      "0.7798487013090408\n",
      "0.3069163582877874\n",
      "0.12460145765167177\n"
     ]
    }
   ],
   "source": [
    "print(df.select(pl.corr(\"Count\", \"NumRecombsDetectedByMonth\")).item())\n",
    "print(df.select(pl.corr(\"Infections\", \"NumRecombsDetectedByMonth\")).item())\n",
    "print(df.select(pl.corr(\"Infections\", \"Count\")).item())"
   ]
  },
  {
   "cell_type": "markdown",
   "id": "79e72bc2-3285-4163-9c30-8aef650b35bb",
   "metadata": {},
   "source": [
    "# Comparing the mean and standard deviation of substitution mutations vs recombination"
   ]
  },
  {
   "cell_type": "code",
   "execution_count": 11,
   "id": "cd3716e6-340e-48da-af16-b7f327f9f7c6",
   "metadata": {},
   "outputs": [
    {
     "name": "stdout",
     "output_type": "stream",
     "text": [
      "Mean fitness for substitution mutations found in MAT:  1.009351393981603\n",
      "Standard deviation of fitness for substitution mutations found in MAT:  0.02727305822114323\n"
     ]
    }
   ],
   "source": [
    "substitution_mean, substitution_std_dev = analysis.getSubstitutionStats().values()\n",
    "print(\"Mean fitness for substitution mutations found in MAT: \", substitution_mean)\n",
    "print(\"Standard deviation of fitness for substitution mutations found in MAT: \", substitution_std_dev)"
   ]
  },
  {
   "cell_type": "markdown",
   "id": "5870e39e-92ce-45e8-b1b3-07d276c59b36",
   "metadata": {},
   "source": [
    "# Figure 3 Analysis"
   ]
  },
  {
   "cell_type": "code",
   "execution_count": 1,
   "id": "2ab36aed-74a3-4ed8-ab77-996f4cc1b642",
   "metadata": {},
   "outputs": [],
   "source": [
    "def low_fitness_recombs_stats(df):\n",
    "    \"\"\"\n",
    "    Proportion of recombinations between two already low fitness parents, that result in a above average recombinant.\n",
    "    \"\"\"\n",
    "    both_parents_low_fitness = 0\n",
    "    low_fitness_recomb = 0\n",
    "    for row in df.iter_rows(named=True):\n",
    "        month = row[\"Month\"]\n",
    "        # Median fitness for the given month\n",
    "        median_fitness = (\n",
    "            df.filter(pl.col(\"Month\") == month)\n",
    "            .select(\"Median\")\n",
    "            .cast(pl.Float64)\n",
    "            .head(1)\n",
    "            .item()\n",
    "        )\n",
    "        donor_fitness = row[\"DonorFitness\"]\n",
    "        acceptor_fitness = row[\"AcceptorFitness\"]\n",
    "        recomb_fitness = row[\"Score\"]\n",
    "        # Both parents are below the circulating median fitness\n",
    "        if (donor_fitness < median_fitness) and (acceptor_fitness < median_fitness):\n",
    "            both_parents_low_fitness += 1\n",
    "            # If the recombinant is also below the median fitness\n",
    "            if recomb_fitness < median_fitness:\n",
    "                low_fitness_recomb += 1\n",
    "\n",
    "    print(\n",
    "        \"Total number of recombs with both parents less fit than median fitness: \",\n",
    "        both_parents_low_fitness,\n",
    "    )\n",
    "    print(\n",
    "        \"Total number of recombs with both parents less fit than median fitness, and recombinant also below median fitness: \",\n",
    "        low_fitness_recomb,\n",
    "    )\n",
    "    print(\"Percentage of recombinants where both parents are less fit than median fitness, and recombinant also below median fitness: \", (low_fitness_recomb / both_parents_low_fitness) * 100)\n",
    "    print(\"Percentage of recombinants where both parents are less fit than median fitness, and recombinant is at or above median fitness: \", 100 - (low_fitness_recomb / both_parents_low_fitness) * 100)\n"
   ]
  },
  {
   "cell_type": "code",
   "execution_count": 2,
   "id": "6d51d50b-1808-4609-ba4d-4bd8ea865764",
   "metadata": {},
   "outputs": [
    {
     "ename": "NameError",
     "evalue": "name 'analysis' is not defined",
     "output_type": "error",
     "traceback": [
      "\u001b[31m---------------------------------------------------------------------------\u001b[39m",
      "\u001b[31mNameError\u001b[39m                                 Traceback (most recent call last)",
      "\u001b[36mCell\u001b[39m\u001b[36m \u001b[39m\u001b[32mIn[2]\u001b[39m\u001b[32m, line 1\u001b[39m\n\u001b[32m----> \u001b[39m\u001b[32m1\u001b[39m low_fitness_recombs_stats(\u001b[43manalysis\u001b[49m.getRecombData())\n",
      "\u001b[31mNameError\u001b[39m: name 'analysis' is not defined"
     ]
    }
   ],
   "source": [
    "low_fitness_recombs_stats(analysis.getRecombData())"
   ]
  },
  {
   "cell_type": "code",
   "execution_count": null,
   "id": "5c5a6509-e621-40e0-88cf-373b6808d149",
   "metadata": {},
   "outputs": [],
   "source": []
  },
  {
   "cell_type": "code",
   "execution_count": 26,
   "id": "0288242b-ef46-47ee-a6ef-20e6981068f2",
   "metadata": {},
   "outputs": [],
   "source": [
    "def quadrant_percentages(df):\n",
    "    \"\"\"\n",
    "    \"\"\"\n",
    "    FITNESS_COL = \"RecombFitnessNormalizedByMaxParents\"\n",
    "    DIVERGENCE_COL = \"ParentsHD\"\n",
    "    \n",
    "    # Calculate the average parental divergence of recombinants\n",
    "    avg_parental_divergence = df.select(pl.col(DIVERGENCE_COL).mean()).head(1).item()\n",
    "    TOTAL = len(df)    \n",
    "    NEUTRAL_FITNESS = float(1.0)\n",
    "    \n",
    "    quadrant_1 = len(\n",
    "        df.filter(\n",
    "            (pl.col(FITNESS_COL) > NEUTRAL_FITNESS)\n",
    "            & (pl.col(DIVERGENCE_COL) > avg_parental_divergence)\n",
    "        )\n",
    "    )\n",
    "    quadrant_2 = len(\n",
    "        df.filter(\n",
    "            (pl.col(FITNESS_COL) <= NEUTRAL_FITNESS)\n",
    "            & (pl.col(DIVERGENCE_COL) > avg_parental_divergence)\n",
    "        )\n",
    "    )\n",
    "    quadrant_3 = len(\n",
    "        df.filter(\n",
    "            (pl.col(FITNESS_COL) <= NEUTRAL_FITNESS)\n",
    "            & (pl.col(DIVERGENCE_COL) <= avg_parental_divergence)\n",
    "        )\n",
    "    )\n",
    "    quadrant_4 = len(\n",
    "        df.filter(\n",
    "            (pl.col(FITNESS_COL) > NEUTRAL_FITNESS)\n",
    "            & (pl.col(DIVERGENCE_COL) <= avg_parental_divergence)\n",
    "        )\n",
    "    )\n",
    "    assert quadrant_1 + quadrant_2 + quadrant_3 + quadrant_4 == TOTAL\n",
    "\n",
    "    #print(\"Count for Quadrant 1 (High diversity, high fitness): \", quadrant_1)\n",
    "    #print(\"Count for Quadrant 2 (High diversity, low fitness): \", quadrant_2)\n",
    "    #print(\"Count for Quadrant 3 (Low diversity, low fitness): \", quadrant_3)\n",
    "    #print(\"Count for Quadrant 4 (Low diversity, high fitness): \", quadrant_4)\n",
    "    #print()\n",
    "    #print()\n",
    "    quadrant_1_percent = (quadrant_1 / TOTAL) * 100\n",
    "    quadrant_2_percent = (quadrant_2 / TOTAL) * 100\n",
    "    quadrant_3_percent = (quadrant_3 / TOTAL) * 100\n",
    "    quadrant_4_percent = (quadrant_4 / TOTAL) * 100\n",
    "    print(\n",
    "        \"Percentage for Quadrant 1 (High diversity, high fitness): \", quadrant_1_percent\n",
    "    )\n",
    "    print(\n",
    "        \"Percentage for Quadrant 2 (High diversity, low fitness): \", quadrant_2_percent\n",
    "    )\n",
    "    print(\n",
    "        \"Percentage for Quadrant 3 (Low diversity, low fitness): \", quadrant_3_percent\n",
    "    )\n",
    "    print(\n",
    "        \"Percentage for Quadrant 4 (Low diversity, high fitness): \", quadrant_4_percent\n",
    "    )\n",
    "\n",
    "    # Above 1.1 norm fitness and greater than average parental divergence\n",
    "    very_rare = len(\n",
    "        df.filter(\n",
    "            (pl.col(FITNESS_COL) > 1.1)\n",
    "            & (pl.col(DIVERGENCE_COL) > avg_parental_divergence)\n",
    "        )\n",
    "    )\n",
    "    very_rate_percent = (very_rare / TOTAL) * 100\n",
    "    print(\"Percentage of recombinants that are above 1.1 normalized fitness (by max parent) and have a greater than average parental divergence: \", very_rate_percent)"
   ]
  },
  {
   "cell_type": "code",
   "execution_count": 25,
   "id": "30a3bf6f-71d5-43a1-b4c0-71cd5af1bb0f",
   "metadata": {},
   "outputs": [
    {
     "name": "stdout",
     "output_type": "stream",
     "text": [
      "Percentage for Quadrant 1 (High diversity, high fitness):  6.134157105030892\n",
      "Percentage for Quadrant 2 (High diversity, low fitness):  28.067078552515447\n",
      "Percentage for Quadrant 3 (Low diversity, low fitness):  52.162400706090025\n",
      "Percentage for Quadrant 4 (Low diversity, high fitness):  13.636363636363635\n",
      "Percentage of recombinants that are above 1.1 normalized fitness (by max parent) and have a greater than average parental divergence:  0.7943512797881729\n"
     ]
    }
   ],
   "source": [
    "quadrant_percentages(analysis.getRecombData())"
   ]
  },
  {
   "cell_type": "markdown",
   "id": "60e7bd7d-9930-4f8d-844f-714b14688642",
   "metadata": {},
   "source": []
  },
  {
   "cell_type": "code",
   "execution_count": null,
   "id": "98b6dd9e-49a4-44ee-887a-1200fb67ba24",
   "metadata": {},
   "outputs": [],
   "source": []
  },
  {
   "cell_type": "code",
   "execution_count": 28,
   "id": "3ee10512-df7e-49c9-bae8-fc6855417cb6",
   "metadata": {},
   "outputs": [],
   "source": [
    "def neutral_and_divergent(df):\n",
    "    \"\"\"\n",
    "    TODO\n",
    "    \"\"\"\n",
    "    FITNESS_COL = \"RecombFitnessNormalizedByMaxParents\"\n",
    "    DIVERGENCE_COL = \"ParentsHD\"\n",
    "\n",
    "    TOTAL = len(df)\n",
    "    avg_parental_divergence = df.select(pl.col(DIVERGENCE_COL).mean()).head(1).item()\n",
    "    results = len(\n",
    "        df.filter(\n",
    "            (pl.col(FITNESS_COL).is_between(0.98, 1.02))\n",
    "            & (pl.col(DIVERGENCE_COL) > avg_parental_divergence)\n",
    "        )\n",
    "    )\n",
    "    print(\"Percentage of recombinants that are near neutral and divergent cases: \", (results / TOTAL) * 100)"
   ]
  },
  {
   "cell_type": "code",
   "execution_count": 29,
   "id": "a43cacb2-16cf-4554-8fd7-c6ae44a8806c",
   "metadata": {},
   "outputs": [
    {
     "name": "stdout",
     "output_type": "stream",
     "text": [
      "Percentage of recombinants that are near neutral and divergent cases:  12.400706090026478\n"
     ]
    }
   ],
   "source": [
    "neutral_and_divergent(analysis.getRecombData())"
   ]
  },
  {
   "cell_type": "markdown",
   "id": "5d2f4d76-987c-47f7-ac3c-e794fda5133b",
   "metadata": {},
   "source": [
    "# Figure 3d Analysis"
   ]
  },
  {
   "cell_type": "code",
   "execution_count": 16,
   "id": "09abdab4-91c1-46b0-a260-35089d01d7fe",
   "metadata": {},
   "outputs": [],
   "source": [
    "def calculate_percentages(data):\n",
    "    \"\"\"\n",
    "    \"\"\"\n",
    "    total = len(data)\n",
    "    between_0_and_1 = np.sum((data >= 0) & (data <= 1))\n",
    "    below_0 =  np.sum(data < 0)\n",
    "    above_1 = np.sum(data > 1)\n",
    "    assert(total == (between_0_and_1 + below_0 + above_1))\n",
    "\n",
    "    print(\"Percentage of data below 0: \", round((below_0 / total) * 100, 2))\n",
    "    print(\"Percentage of data above 1: \", round((above_1 / total) * 100, 2))\n",
    "    print(\"Percentage of data between 0 and 1 (both inclusive): \", round((between_0_and_1 / total) * 100, 2))\n"
   ]
  },
  {
   "cell_type": "code",
   "execution_count": 17,
   "id": "2d072847-6b11-4cb6-a0fc-33ede83326d5",
   "metadata": {},
   "outputs": [
    {
     "name": "stdout",
     "output_type": "stream",
     "text": [
      "Percentage of data below 0:  15.36\n",
      "Percentage of data above 1:  19.77\n",
      "Percentage of data between 0 and 1 (both inclusive):  64.87\n"
     ]
    }
   ],
   "source": [
    "norm_fitness_data = analysis.getNormFitness().select('NormFitness').to_numpy()\n",
    "calculate_percentages(norm_fitness_data)"
   ]
  },
  {
   "cell_type": "code",
   "execution_count": null,
   "id": "80a8d46f-5dac-407f-b226-30d2aae85ebf",
   "metadata": {},
   "outputs": [],
   "source": []
  }
 ],
 "metadata": {
  "kernelspec": {
   "display_name": "Python 3 (ipykernel)",
   "language": "python",
   "name": "python3"
  },
  "language_info": {
   "codemirror_mode": {
    "name": "ipython",
    "version": 3
   },
   "file_extension": ".py",
   "mimetype": "text/x-python",
   "name": "python",
   "nbconvert_exporter": "python",
   "pygments_lexer": "ipython3",
   "version": "3.12.11"
  }
 },
 "nbformat": 4,
 "nbformat_minor": 5
}
