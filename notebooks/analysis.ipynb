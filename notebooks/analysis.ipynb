{
 "cells": [
  {
   "cell_type": "code",
   "execution_count": 2,
   "id": "present-needle",
   "metadata": {},
   "outputs": [],
   "source": [
    "import polars as pl\n",
    "import numpy as np\n",
    "from methods import Config, RecombAnalysis"
   ]
  },
  {
   "cell_type": "markdown",
   "id": "negative-trustee",
   "metadata": {},
   "source": [
    "# Data required for analysis\n",
    "\n",
    "The notebook loads the following three data files, included in the `data` directory:\n",
    "- `rivet_recombs_data.csv`: The file containing all the information and statistics for the detected recombinants included in this analysis.\n",
    "- `substitutions_scores.csv`: A file containing the PyR0 fitness scores for all ranked subtitutions considered by PyR0 found in the \"2023-12-25\" private MAT.\n",
    "- `monthly_fitness_stats.csv`: A file containing some basic statistics for the circulating fitness of all SARS-CoV-2 samples found in the MAT for each month."
   ]
  },
  {
   "cell_type": "markdown",
   "id": "3ec2b5a4-c2a4-4f3c-ab87-7a4db4c0fd47",
   "metadata": {},
   "source": [
    "# Load configuration file and data files required for analysis"
   ]
  },
  {
   "cell_type": "code",
   "execution_count": 3,
   "id": "528af81b-f588-4f9e-9108-9f5b1bde918a",
   "metadata": {},
   "outputs": [
    {
     "name": "stdout",
     "output_type": "stream",
     "text": [
      "Loading all datasets for analysis\n",
      "Data loaded, analysis ready. Elapsed time: 2.1022 seconds\n"
     ]
    }
   ],
   "source": [
    "# Ensure correct path to config.yaml file in top level directory\n",
    "CONFIG_FILEPATH = \"../config.yaml\"\n",
    "# Get all the data files from the config file\n",
    "config = Config(CONFIG_FILEPATH)\n",
    "analysis = RecombAnalysis(config)"
   ]
  },
  {
   "cell_type": "markdown",
   "id": "5ae36145-9b39-4cad-af55-f05cf6011db6",
   "metadata": {},
   "source": [
    "# Figure 1: Relationship between detectable recombination, standing genetic diversity and the number of infections"
   ]
  },
  {
   "cell_type": "code",
   "execution_count": 4,
   "id": "cd6dc22e-38f1-4c05-961d-4067b5e7bf1f",
   "metadata": {},
   "outputs": [
    {
     "name": "stdout",
     "output_type": "stream",
     "text": [
      "shape: (37, 4)\n",
      "┌─────────┬────────────────┬────────────┬───────────────────────────┐\n",
      "│ Month   ┆ DiversityScore ┆ Infections ┆ NumRecombsDetectedByMonth │\n",
      "│ ---     ┆ ---            ┆ ---        ┆ ---                       │\n",
      "│ str     ┆ f64            ┆ i64        ┆ i64                       │\n",
      "╞═════════╪════════════════╪════════════╪═══════════════════════════╡\n",
      "│ 2022-09 ┆ 102.288        ┆ 14721332   ┆ 75                        │\n",
      "│ 2021-10 ┆ 133.259        ┆ 13064658   ┆ 94                        │\n",
      "│ 2021-12 ┆ 144.167        ┆ 25614610   ┆ 61                        │\n",
      "│ 2020-04 ┆ 59.1907        ┆ 2412716    ┆ 4                         │\n",
      "│ 2022-05 ┆ 94.8531        ┆ 16213566   ┆ 63                        │\n",
      "│ …       ┆ …              ┆ …          ┆ …                         │\n",
      "│ 2021-05 ┆ 140.826        ┆ 19347136   ┆ 83                        │\n",
      "│ 2021-02 ┆ 142.19         ┆ 11253786   ┆ 96                        │\n",
      "│ 2022-10 ┆ 110.021        ┆ 12795215   ┆ 64                        │\n",
      "│ 2020-08 ┆ 81.8903        ┆ 7941296    ┆ 18                        │\n",
      "│ 2021-11 ┆ 141.142        ┆ 15702891   ┆ 107                       │\n",
      "└─────────┴────────────────┴────────────┴───────────────────────────┘\n"
     ]
    }
   ],
   "source": [
    "df = analysis.getEpidemiologicalFactors()\n",
    "print(df)"
   ]
  },
  {
   "cell_type": "markdown",
   "id": "0316f17b-69af-4c22-810a-198204401af7",
   "metadata": {},
   "source": [
    "### Figure 1c: Correlation Matrix"
   ]
  },
  {
   "cell_type": "code",
   "execution_count": 5,
   "id": "15de2fa2-1a44-4979-ab0d-aaeec1dd4f63",
   "metadata": {},
   "outputs": [
    {
     "data": {
      "text/html": [
       "<div>\n",
       "<style scoped>\n",
       "    .dataframe tbody tr th:only-of-type {\n",
       "        vertical-align: middle;\n",
       "    }\n",
       "\n",
       "    .dataframe tbody tr th {\n",
       "        vertical-align: top;\n",
       "    }\n",
       "\n",
       "    .dataframe thead th {\n",
       "        text-align: right;\n",
       "    }\n",
       "</style>\n",
       "<table border=\"1\" class=\"dataframe\">\n",
       "  <thead>\n",
       "    <tr style=\"text-align: right;\">\n",
       "      <th></th>\n",
       "      <th>DiversityScore</th>\n",
       "      <th>Infections</th>\n",
       "      <th>NumRecombsDetectedByMonth</th>\n",
       "    </tr>\n",
       "  </thead>\n",
       "  <tbody>\n",
       "    <tr>\n",
       "      <th>DiversityScore</th>\n",
       "      <td>1.000000</td>\n",
       "      <td>0.124601</td>\n",
       "      <td>0.779849</td>\n",
       "    </tr>\n",
       "    <tr>\n",
       "      <th>Infections</th>\n",
       "      <td>0.124601</td>\n",
       "      <td>1.000000</td>\n",
       "      <td>0.306916</td>\n",
       "    </tr>\n",
       "    <tr>\n",
       "      <th>NumRecombsDetectedByMonth</th>\n",
       "      <td>0.779849</td>\n",
       "      <td>0.306916</td>\n",
       "      <td>1.000000</td>\n",
       "    </tr>\n",
       "  </tbody>\n",
       "</table>\n",
       "</div>"
      ],
      "text/plain": [
       "                           DiversityScore  Infections  \\\n",
       "DiversityScore                   1.000000    0.124601   \n",
       "Infections                       0.124601    1.000000   \n",
       "NumRecombsDetectedByMonth        0.779849    0.306916   \n",
       "\n",
       "                           NumRecombsDetectedByMonth  \n",
       "DiversityScore                              0.779849  \n",
       "Infections                                  0.306916  \n",
       "NumRecombsDetectedByMonth                   1.000000  "
      ]
     },
     "execution_count": 5,
     "metadata": {},
     "output_type": "execute_result"
    }
   ],
   "source": [
    "selected_columns = ['DiversityScore', 'Infections', 'NumRecombsDetectedByMonth']\n",
    "df.to_pandas()[selected_columns].corr()"
   ]
  },
  {
   "cell_type": "code",
   "execution_count": 6,
   "id": "73389bd6-02d9-47f3-8c8d-a9a52d881039",
   "metadata": {},
   "outputs": [
    {
     "name": "stdout",
     "output_type": "stream",
     "text": [
      "0.7798487013090409\n",
      "0.3069163582877874\n",
      "0.12460145765167177\n"
     ]
    }
   ],
   "source": [
    "print(df.select(pl.corr(\"DiversityScore\", \"NumRecombsDetectedByMonth\")).item())\n",
    "print(df.select(pl.corr(\"Infections\", \"NumRecombsDetectedByMonth\")).item())\n",
    "print(df.select(pl.corr(\"Infections\", \"DiversityScore\")).item())"
   ]
  },
  {
   "cell_type": "markdown",
   "id": "e369aa92-cdd9-46bb-a1a6-e457f89ec8ef",
   "metadata": {},
   "source": [
    "# Figure 2: Fitness of Detectable Recombinants and Circulating Sample Fitness"
   ]
  },
  {
   "cell_type": "code",
   "execution_count": 7,
   "id": "c9b5a1c2-f475-4e79-b54f-87145f33f109",
   "metadata": {},
   "outputs": [],
   "source": [
    "# ADD"
   ]
  },
  {
   "cell_type": "markdown",
   "id": "79e72bc2-3285-4163-9c30-8aef650b35bb",
   "metadata": {},
   "source": [
    "# Figure 3a Analysis: Comparing the mean and standard deviation of substitution mutations vs recombination"
   ]
  },
  {
   "cell_type": "code",
   "execution_count": 8,
   "id": "cd3716e6-340e-48da-af16-b7f327f9f7c6",
   "metadata": {},
   "outputs": [
    {
     "name": "stdout",
     "output_type": "stream",
     "text": [
      "Mean fitness for substitution mutations found in MAT:  1.009351393981603\n",
      "Standard deviation of fitness for substitution mutations found in MAT:  0.02727305822114323\n"
     ]
    }
   ],
   "source": [
    "substitution_mean, substitution_std_dev = analysis.getSubstitutionFitnessStats().values()\n",
    "print(\"Mean fitness for substitution mutations found in MAT: \", substitution_mean)\n",
    "print(\"Standard deviation of fitness for substitution mutations found in MAT: \", substitution_std_dev)"
   ]
  },
  {
   "cell_type": "code",
   "execution_count": 9,
   "id": "5f20c620-65fd-40a6-ae4c-7dba12a40247",
   "metadata": {},
   "outputs": [
    {
     "name": "stdout",
     "output_type": "stream",
     "text": [
      "Mean fitness for recombinants found in MAT:  0.9370849044625659\n",
      "Standard deviation of recombinants found in MAT:  0.13788125059309864\n"
     ]
    }
   ],
   "source": [
    "recombination_mean, recombination_std_dev = analysis.getRecombinationFitnessStats().values()\n",
    "print(\"Mean fitness for recombinants found in MAT: \", recombination_mean)\n",
    "print(\"Standard deviation of recombinants found in MAT: \", recombination_std_dev)"
   ]
  },
  {
   "cell_type": "markdown",
   "id": "5870e39e-92ce-45e8-b1b3-07d276c59b36",
   "metadata": {},
   "source": [
    "# Figure 3b Analysis: Recombinant fitness normalized by the fitter parent, compared to parental divergence"
   ]
  },
  {
   "cell_type": "code",
   "execution_count": 10,
   "id": "2ab36aed-74a3-4ed8-ab77-996f4cc1b642",
   "metadata": {},
   "outputs": [],
   "source": [
    "def low_fitness_recombs_stats(df):\n",
    "    \"\"\"\n",
    "    Proportion of recombinations between two already low fitness parents, that result in a above average recombinant.\n",
    "    \"\"\"\n",
    "    both_parents_low_fitness = 0\n",
    "    low_fitness_recomb = 0\n",
    "    for row in df.iter_rows(named=True):\n",
    "        month = row[\"Month\"]\n",
    "        # Median fitness for the given month\n",
    "        median_fitness = (\n",
    "            df.filter(pl.col(\"Month\") == month)\n",
    "            .select(\"Median\")\n",
    "            .cast(pl.Float64)\n",
    "            .head(1)\n",
    "            .item()\n",
    "        )\n",
    "        donor_fitness = row[\"DonorFitness\"]\n",
    "        acceptor_fitness = row[\"AcceptorFitness\"]\n",
    "        recomb_fitness = row[\"Score\"]\n",
    "        # Both parents are below the circulating median fitness\n",
    "        if (donor_fitness < median_fitness) and (acceptor_fitness < median_fitness):\n",
    "            both_parents_low_fitness += 1\n",
    "            # If the recombinant is also below the median fitness\n",
    "            if recomb_fitness < median_fitness:\n",
    "                low_fitness_recomb += 1\n",
    "\n",
    "    print(\n",
    "        \"Total number of recombs with both parents less fit than median fitness: \",\n",
    "        both_parents_low_fitness,\n",
    "    )\n",
    "    print(\n",
    "        \"Total number of recombs with both parents less fit than median fitness, and recombinant also below median fitness: \",\n",
    "        low_fitness_recomb,\n",
    "    )\n",
    "    print(\"Percentage of recombinants where both parents are less fit than median fitness, and recombinant also below median fitness: \", (low_fitness_recomb / both_parents_low_fitness) * 100)\n",
    "    print(\"Percentage of recombinants where both parents are less fit than median fitness, and recombinant is at or above median fitness: \", 100 - (low_fitness_recomb / both_parents_low_fitness) * 100)\n"
   ]
  },
  {
   "cell_type": "markdown",
   "id": "4bc44d19-ea91-4e2c-8a4d-1f0786314884",
   "metadata": {},
   "source": [
    "### Comparing recombinant and parental fitness with median circulating fitness at time of emergence"
   ]
  },
  {
   "cell_type": "code",
   "execution_count": 11,
   "id": "6d51d50b-1808-4609-ba4d-4bd8ea865764",
   "metadata": {},
   "outputs": [
    {
     "name": "stdout",
     "output_type": "stream",
     "text": [
      "Total number of recombs with both parents less fit than median fitness:  321\n",
      "Total number of recombs with both parents less fit than median fitness, and recombinant also below median fitness:  301\n",
      "Percentage of recombinants where both parents are less fit than median fitness, and recombinant also below median fitness:  93.76947040498442\n",
      "Percentage of recombinants where both parents are less fit than median fitness, and recombinant is at or above median fitness:  6.230529595015582\n"
     ]
    }
   ],
   "source": [
    "low_fitness_recombs_stats(analysis.getRecombData())"
   ]
  },
  {
   "cell_type": "code",
   "execution_count": 12,
   "id": "0288242b-ef46-47ee-a6ef-20e6981068f2",
   "metadata": {},
   "outputs": [],
   "source": [
    "def quadrant_percentages(df):\n",
    "    \"\"\"\n",
    "    \"\"\"\n",
    "    FITNESS_COL = \"RecombFitnessNormalizedByMaxParents\"\n",
    "    DIVERGENCE_COL = \"ParentsHD\"\n",
    "    \n",
    "    # Calculate the average parental divergence of recombinants\n",
    "    avg_parental_divergence = df.select(pl.col(DIVERGENCE_COL).mean()).head(1).item()\n",
    "    TOTAL = len(df)    \n",
    "    NEUTRAL_FITNESS = float(1.0)\n",
    "    \n",
    "    quadrant_1 = len(\n",
    "        df.filter(\n",
    "            (pl.col(FITNESS_COL) > NEUTRAL_FITNESS)\n",
    "            & (pl.col(DIVERGENCE_COL) > avg_parental_divergence)\n",
    "        )\n",
    "    )\n",
    "    quadrant_2 = len(\n",
    "        df.filter(\n",
    "            (pl.col(FITNESS_COL) <= NEUTRAL_FITNESS)\n",
    "            & (pl.col(DIVERGENCE_COL) > avg_parental_divergence)\n",
    "        )\n",
    "    )\n",
    "    quadrant_3 = len(\n",
    "        df.filter(\n",
    "            (pl.col(FITNESS_COL) <= NEUTRAL_FITNESS)\n",
    "            & (pl.col(DIVERGENCE_COL) <= avg_parental_divergence)\n",
    "        )\n",
    "    )\n",
    "    quadrant_4 = len(\n",
    "        df.filter(\n",
    "            (pl.col(FITNESS_COL) > NEUTRAL_FITNESS)\n",
    "            & (pl.col(DIVERGENCE_COL) <= avg_parental_divergence)\n",
    "        )\n",
    "    )\n",
    "    assert quadrant_1 + quadrant_2 + quadrant_3 + quadrant_4 == TOTAL\n",
    "\n",
    "    #print(\"Count for Quadrant 1 (High diversity, high fitness): \", quadrant_1)\n",
    "    #print(\"Count for Quadrant 2 (High diversity, low fitness): \", quadrant_2)\n",
    "    #print(\"Count for Quadrant 3 (Low diversity, low fitness): \", quadrant_3)\n",
    "    #print(\"Count for Quadrant 4 (Low diversity, high fitness): \", quadrant_4)\n",
    "    #print()\n",
    "    #print()\n",
    "    quadrant_1_percent = (quadrant_1 / TOTAL) * 100\n",
    "    quadrant_2_percent = (quadrant_2 / TOTAL) * 100\n",
    "    quadrant_3_percent = (quadrant_3 / TOTAL) * 100\n",
    "    quadrant_4_percent = (quadrant_4 / TOTAL) * 100\n",
    "    print(\n",
    "        \"Percentage for Quadrant 1 (High diversity, high fitness): \", quadrant_1_percent\n",
    "    )\n",
    "    print(\n",
    "        \"Percentage for Quadrant 2 (High diversity, low fitness): \", quadrant_2_percent\n",
    "    )\n",
    "    print(\n",
    "        \"Percentage for Quadrant 3 (Low diversity, low fitness): \", quadrant_3_percent\n",
    "    )\n",
    "    print(\n",
    "        \"Percentage for Quadrant 4 (Low diversity, high fitness): \", quadrant_4_percent\n",
    "    )\n",
    "\n",
    "    # Above 1.1 norm fitness and greater than average parental divergence\n",
    "    very_rare = len(\n",
    "        df.filter(\n",
    "            (pl.col(FITNESS_COL) > 1.1)\n",
    "            & (pl.col(DIVERGENCE_COL) > avg_parental_divergence)\n",
    "        )\n",
    "    )\n",
    "    very_rate_percent = (very_rare / TOTAL) * 100\n",
    "    print(\"Percentage of recombinants that are above 1.1 normalized fitness (by max parent) and have a greater than average parental divergence: \", very_rate_percent)"
   ]
  },
  {
   "cell_type": "markdown",
   "id": "074d125d-cea0-49ea-8f26-dbb23a1bbe88",
   "metadata": {},
   "source": [
    "### Divergence vs Fitness Quadrant Percentages "
   ]
  },
  {
   "cell_type": "code",
   "execution_count": 13,
   "id": "30a3bf6f-71d5-43a1-b4c0-71cd5af1bb0f",
   "metadata": {},
   "outputs": [
    {
     "name": "stdout",
     "output_type": "stream",
     "text": [
      "Percentage for Quadrant 1 (High diversity, high fitness):  6.134157105030892\n",
      "Percentage for Quadrant 2 (High diversity, low fitness):  28.067078552515447\n",
      "Percentage for Quadrant 3 (Low diversity, low fitness):  52.162400706090025\n",
      "Percentage for Quadrant 4 (Low diversity, high fitness):  13.636363636363635\n",
      "Percentage of recombinants that are above 1.1 normalized fitness (by max parent) and have a greater than average parental divergence:  0.7943512797881729\n"
     ]
    }
   ],
   "source": [
    "quadrant_percentages(analysis.getRecombData())"
   ]
  },
  {
   "cell_type": "code",
   "execution_count": 14,
   "id": "3ee10512-df7e-49c9-bae8-fc6855417cb6",
   "metadata": {},
   "outputs": [],
   "source": [
    "def neutral_and_divergent(df):\n",
    "    \"\"\"\n",
    "    TODO\n",
    "    \"\"\"\n",
    "    FITNESS_COL = \"RecombFitnessNormalizedByMaxParents\"\n",
    "    DIVERGENCE_COL = \"ParentsHD\"\n",
    "\n",
    "    TOTAL = len(df)\n",
    "    avg_parental_divergence = df.select(pl.col(DIVERGENCE_COL).mean()).head(1).item()\n",
    "    results = len(\n",
    "        df.filter(\n",
    "            (pl.col(FITNESS_COL).is_between(0.98, 1.02))\n",
    "            & (pl.col(DIVERGENCE_COL) > avg_parental_divergence)\n",
    "        )\n",
    "    )\n",
    "    print(\"Percentage of recombinants that are near neutral and divergent cases: \", (results / TOTAL) * 100)"
   ]
  },
  {
   "cell_type": "markdown",
   "id": "357a8613-d66f-4990-a799-22b894f5e793",
   "metadata": {},
   "source": [
    "### Percentage of recombinants that have near neutral fitness and arrise from divergent parents "
   ]
  },
  {
   "cell_type": "code",
   "execution_count": 15,
   "id": "a43cacb2-16cf-4554-8fd7-c6ae44a8806c",
   "metadata": {},
   "outputs": [
    {
     "name": "stdout",
     "output_type": "stream",
     "text": [
      "Percentage of recombinants that are near neutral and divergent cases:  12.400706090026478\n"
     ]
    }
   ],
   "source": [
    "neutral_and_divergent(analysis.getRecombData())"
   ]
  },
  {
   "cell_type": "markdown",
   "id": "768e094e-483f-4b0e-8447-7c90bf84f568",
   "metadata": {},
   "source": [
    "# Figure 3c Analysis: Calculating the mean and standard deviation of recombinant fitness when normalized by minimum of parental fitness"
   ]
  },
  {
   "cell_type": "code",
   "execution_count": 16,
   "id": "244dcec7-e177-41d3-a603-80376f8640dc",
   "metadata": {},
   "outputs": [
    {
     "name": "stdout",
     "output_type": "stream",
     "text": [
      "Mean fitness for recombinants (normalized by min of parental fitness) found in MAT:  1.1351193435012363\n",
      "Standard deviation of recombinants (normalized by min of parental fitness) found in MAT:  0.37676604798203955\n"
     ]
    }
   ],
   "source": [
    "recombination_norm_by_min_mean, recombination_norm_by_min_std_dev = analysis.getRecombinationMinFitnessStats().values()\n",
    "print(\"Mean fitness for recombinants (normalized by min of parental fitness) found in MAT: \", recombination_norm_by_min_mean)\n",
    "print(\"Standard deviation of recombinants (normalized by min of parental fitness) found in MAT: \", recombination_norm_by_min_std_dev)"
   ]
  },
  {
   "cell_type": "markdown",
   "id": "5d2f4d76-987c-47f7-ac3c-e794fda5133b",
   "metadata": {},
   "source": [
    "# Figure 3d Analysis: Recombinant fitness compared to parental fitness"
   ]
  },
  {
   "cell_type": "code",
   "execution_count": 17,
   "id": "09abdab4-91c1-46b0-a260-35089d01d7fe",
   "metadata": {},
   "outputs": [],
   "source": [
    "def calculate_percentages(data):\n",
    "    \"\"\"\n",
    "    \"\"\"\n",
    "    total = len(data)\n",
    "    between_0_and_1 = np.sum((data >= 0) & (data <= 1))\n",
    "    below_0 =  np.sum(data < 0)\n",
    "    above_1 = np.sum(data > 1)\n",
    "    assert(total == (between_0_and_1 + below_0 + above_1))\n",
    "\n",
    "    print(\"Percentage of data below 0: \", round((below_0 / total) * 100, 2))\n",
    "    print(\"Percentage of data above 1: \", round((above_1 / total) * 100, 2))\n",
    "    print(\"Percentage of data between 0 and 1 (both inclusive): \", round((between_0_and_1 / total) * 100, 2))\n"
   ]
  },
  {
   "cell_type": "code",
   "execution_count": 18,
   "id": "2d072847-6b11-4cb6-a0fc-33ede83326d5",
   "metadata": {},
   "outputs": [
    {
     "name": "stdout",
     "output_type": "stream",
     "text": [
      "Percentage of data below 0:  15.36\n",
      "Percentage of data above 1:  19.77\n",
      "Percentage of data between 0 and 1 (both inclusive):  64.87\n"
     ]
    }
   ],
   "source": [
    "norm_fitness_data = analysis.getNormFitness().select('NormFitness').to_numpy()\n",
    "calculate_percentages(norm_fitness_data)"
   ]
  },
  {
   "cell_type": "code",
   "execution_count": null,
   "id": "80a8d46f-5dac-407f-b226-30d2aae85ebf",
   "metadata": {},
   "outputs": [],
   "source": []
  }
 ],
 "metadata": {
  "kernelspec": {
   "display_name": "Python 3 (ipykernel)",
   "language": "python",
   "name": "python3"
  },
  "language_info": {
   "codemirror_mode": {
    "name": "ipython",
    "version": 3
   },
   "file_extension": ".py",
   "mimetype": "text/x-python",
   "name": "python",
   "nbconvert_exporter": "python",
   "pygments_lexer": "ipython3",
   "version": "3.12.11"
  }
 },
 "nbformat": 4,
 "nbformat_minor": 5
}
